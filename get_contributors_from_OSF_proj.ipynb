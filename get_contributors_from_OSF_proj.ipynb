{
 "cells": [
  {
   "cell_type": "code",
   "execution_count": 2,
   "metadata": {
    "collapsed": false
   },
   "outputs": [],
   "source": [
    "import requests\n",
    "import urllib\n",
    "import json\n",
    "import csv\n",
    "import time\n",
    "\n",
    "token = (open(\"../apitoken.txt\", \"r\")).read()\n"
   ]
  },
  {
   "cell_type": "markdown",
   "metadata": {},
   "source": [
    "### Psudocode\n",
    "\n",
    "+ Give send_get() a URL with contributors\n",
    "+ Return JSON \n",
    "+ Add each contributor from that URL to a list of contributors\n",
    "+ Check if there is a \"Next\" url\n",
    "+ If there is a \"Next\" url, pass it to send_get()\n",
    "+ Repeat "
   ]
  },
  {
   "cell_type": "code",
   "execution_count": 10,
   "metadata": {
    "collapsed": true
   },
   "outputs": [],
   "source": [
    "def send_get(URL):\n",
    "    #function send get request and return results in json\n",
    "    try:\n",
    "        response = requests.get(\n",
    "            url=URL,\n",
    "            headers={\n",
    "                \"Authorization\": \"Bearer \"+token,\n",
    "                \"Content-Type\": \"application/json\",\n",
    "            },\n",
    "            allow_redirects=True\n",
    "        )\n",
    "        status = response.status_code\n",
    "        #print(\"URL: {} , Status: {}\".format(url, status))\n",
    "        print(\"Link called by function: \"+URL)\n",
    "\n",
    "        if status < 300:\n",
    "            \n",
    "            return response.json()\n",
    "        \n",
    "            #res = response.json()\n",
    "            \n",
    "        else:\n",
    "            print('Response HTTP Status Code: {status_code}'.format(\n",
    "                status_code=response.status_code))\n",
    "            print('Response HTTP Response Body: {content}'.format(\n",
    "                content=response.content))\n",
    "            \n",
    "    except requests.exceptions.RequestException:\n",
    "        print(\"HTTP Request Failed\")"
   ]
  },
  {
   "cell_type": "code",
   "execution_count": 11,
   "metadata": {
    "collapsed": true
   },
   "outputs": [],
   "source": [
    "def checkForNext(jsonResult):\n",
    "    #takes json from API get call and returns the URL for the next page if there is one\n",
    "    #Assigns x to false in the event that there is no next page\n",
    "    if jsonResult[\"links\"][\"next\"] is not None:\n",
    "        #print(jsonResult[\"links\"][\"next\"])\n",
    "        newURL = jsonResult[\"links\"][\"next\"]\n",
    "        print(newURL)\n",
    "        return newURL\n",
    "        \n",
    "    else:\n",
    "        global x \n",
    "        x = False\n",
    "        print(\"no more links\")\n",
    "        "
   ]
  },
  {
   "cell_type": "code",
   "execution_count": 12,
   "metadata": {
    "collapsed": true
   },
   "outputs": [],
   "source": [
    "def getContributorIdAndPermissions(my_url):\n",
    "    # Takes link to first page of contributors (assigned to my url)\n",
    "    # Goes through the json for each contributor \"node\" and returns their ID and permissions level\n",
    "\n",
    "    global x\n",
    "    x = True\n",
    "\n",
    "    list_of_contr = []\n",
    "\n",
    "    while x == True:\n",
    "        jsonFromCall = send_get(my_url)\n",
    "\n",
    "        for i in range(0, (len(jsonFromCall[\"data\"]))): \n",
    "            contributor_id = jsonFromCall[\"data\"][i][\"embeds\"][\"users\"][\"data\"][\"id\"]\n",
    "            permissions = jsonFromCall[\"data\"][i][\"attributes\"][\"permission\"]\n",
    "            print(\"User ID: {}, Permission level: {}\".format(contributor_id, permissions))\n",
    "            contributor = [contributor_id, permissions]\n",
    "            list_of_contr.append(contributor)\n",
    "\n",
    "\n",
    "        print(\"~~~~~ THIS IS BREAK 1 ~~~~~\")    \n",
    "\n",
    "        my_url = checkForNext(jsonFromCall)\n",
    "\n",
    "        #print(x)\n",
    "\n",
    "        #con_id = jsonFromInitialCall[\"data\"][0][\"embeds\"][\"users\"][\"data\"][\"id\"] #only the first ID from results\n",
    "        #print(con_id)\n",
    "\n",
    "        #print(json.dumps(con_id))\n",
    "        time.sleep(2)\n",
    "\n",
    "    print(\"Done\")    \n",
    "    #print(list_of_contr)\n",
    "    return list_of_contr\n",
    "    # Almost works. Currently not changing to false in the function for some reason"
   ]
  },
  {
   "cell_type": "code",
   "execution_count": 13,
   "metadata": {
    "collapsed": false
   },
   "outputs": [
    {
     "name": "stdout",
     "output_type": "stream",
     "text": [
      "Link called by function: https://api.osf.io/v2/nodes/9a5eh/contributors/?\n",
      "User ID: 3jzys, Permission level: admin\n",
      "User ID: 7jwh6, Permission level: admin\n",
      "User ID: 6nywd, Permission level: admin\n",
      "User ID: utb5k, Permission level: admin\n",
      "User ID: 2kfwy, Permission level: write\n",
      "User ID: f77p3, Permission level: write\n",
      "User ID: hhdup, Permission level: write\n",
      "User ID: vkthj, Permission level: write\n",
      "User ID: 7595u, Permission level: admin\n",
      "User ID: czszc, Permission level: write\n",
      "~~~~~ THIS IS BREAK 1 ~~~~~\n",
      "https://api.osf.io/v2/nodes/9a5eh/contributors/?page=2\n",
      "Link called by function: https://api.osf.io/v2/nodes/9a5eh/contributors/?page=2\n",
      "User ID: vutud, Permission level: write\n",
      "User ID: bz3n5, Permission level: write\n",
      "User ID: h6zc6, Permission level: write\n",
      "User ID: 9j2ay, Permission level: write\n",
      "User ID: 5kmjn, Permission level: write\n",
      "User ID: m6wyb, Permission level: write\n",
      "User ID: mec2f, Permission level: write\n",
      "User ID: kfc3y, Permission level: write\n",
      "User ID: 9t3xc, Permission level: write\n",
      "User ID: nnjvk, Permission level: write\n",
      "~~~~~ THIS IS BREAK 1 ~~~~~\n",
      "https://api.osf.io/v2/nodes/9a5eh/contributors/?page=3\n",
      "Link called by function: https://api.osf.io/v2/nodes/9a5eh/contributors/?page=3\n",
      "User ID: tymb5, Permission level: write\n",
      "User ID: xgqtu, Permission level: write\n",
      "User ID: nxfj8, Permission level: write\n",
      "User ID: yj76v, Permission level: write\n",
      "~~~~~ THIS IS BREAK 1 ~~~~~\n",
      "no more links\n",
      "Done\n"
     ]
    }
   ],
   "source": [
    "my_url = \"https://api.osf.io/v2/nodes/9a5eh/contributors/?\"\n",
    "my_contributor_list = getContributorIdAndPermissions(my_url)"
   ]
  },
  {
   "cell_type": "code",
   "execution_count": 14,
   "metadata": {
    "collapsed": false
   },
   "outputs": [
    {
     "name": "stdout",
     "output_type": "stream",
     "text": [
      "[['3jzys', 'admin'], ['7jwh6', 'admin'], ['6nywd', 'admin'], ['utb5k', 'admin'], ['2kfwy', 'write'], ['f77p3', 'write'], ['hhdup', 'write'], ['vkthj', 'write'], ['7595u', 'admin'], ['czszc', 'write'], ['vutud', 'write'], ['bz3n5', 'write'], ['h6zc6', 'write'], ['9j2ay', 'write'], ['5kmjn', 'write'], ['m6wyb', 'write'], ['mec2f', 'write'], ['kfc3y', 'write'], ['9t3xc', 'write'], ['nnjvk', 'write'], ['tymb5', 'write'], ['xgqtu', 'write'], ['nxfj8', 'write'], ['yj76v', 'write']]\n"
     ]
    }
   ],
   "source": [
    "print(my_contributor_list)"
   ]
  },
  {
   "cell_type": "code",
   "execution_count": null,
   "metadata": {
    "collapsed": true
   },
   "outputs": [],
   "source": []
  }
 ],
 "metadata": {
  "anaconda-cloud": {},
  "kernelspec": {
   "display_name": "Python [conda root]",
   "language": "python",
   "name": "conda-root-py"
  },
  "language_info": {
   "codemirror_mode": {
    "name": "ipython",
    "version": 3
   },
   "file_extension": ".py",
   "mimetype": "text/x-python",
   "name": "python",
   "nbconvert_exporter": "python",
   "pygments_lexer": "ipython3",
   "version": "3.5.2"
  }
 },
 "nbformat": 4,
 "nbformat_minor": 1
}
